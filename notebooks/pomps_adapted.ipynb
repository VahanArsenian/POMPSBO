{
 "cells": [
  {
   "cell_type": "code",
   "execution_count": 1,
   "metadata": {
    "pycharm": {
     "is_executing": true
    }
   },
   "outputs": [],
   "source": [
    "import sys\n",
    "import logging\n",
    "import seaborn as sns\n",
    "sys.path.append(\"../\")\n",
    "from experiments.scms import pomps_example_hard_for_contextual as environ, n_inter, n_context\n",
    "from experiments.pomps_experiment import POMPSExperiment, MixedPolicyScope, CoBOExperiment\n",
    "from experiments.causal_bo_experiment import CaBOExperiment, OptimizationObjective\n",
    "import pandas as pd\n",
    "import networkx as nx\n",
    "import numpy as np"
   ]
  },
  {
   "cell_type": "code",
   "execution_count": 2,
   "metadata": {},
   "outputs": [
    {
     "data": {
      "text/plain": [
       "{'Ct83': <pomps.fcm.Functor at 0x7fb8205a3dc0>,\n",
       " 'Ct95': <pomps.fcm.Functor at 0x7fb8206e91f0>,\n",
       " 'Ct125': <pomps.fcm.Functor at 0x7fb8206e9d30>,\n",
       " 'Ct8': <pomps.fcm.Functor at 0x7fb82059f100>,\n",
       " 'Ct80': <pomps.fcm.Functor at 0x7fb8205a3c70>,\n",
       " 'Ct28': <pomps.fcm.Functor at 0x7fb82059f880>,\n",
       " 'Ct31': <pomps.fcm.Functor at 0x7fb82059fa90>,\n",
       " 'Ct99': <pomps.fcm.Functor at 0x7fb8206e9370>,\n",
       " 'Ct7': <pomps.fcm.Functor at 0x7fb82059f0a0>,\n",
       " 'Ct27': <pomps.fcm.Functor at 0x7fb82059f820>,\n",
       " 'Xt21': <pomps.fcm.Functor at 0x7fb820705730>,\n",
       " 'Ct113': <pomps.fcm.Functor at 0x7fb8206e98b0>,\n",
       " 'Ct44': <pomps.fcm.Functor at 0x7fb82059ff10>,\n",
       " 'Ct119': <pomps.fcm.Functor at 0x7fb8206e9af0>,\n",
       " 'Ct24': <pomps.fcm.Functor at 0x7fb82059f430>,\n",
       " 'Ct63': <pomps.fcm.Functor at 0x7fb8205a35b0>,\n",
       " 'Ct26': <pomps.fcm.Functor at 0x7fb82059f7c0>,\n",
       " 'Xt24': <pomps.fcm.Functor at 0x7fb8207058e0>,\n",
       " 'Ct75': <pomps.fcm.Functor at 0x7fb8205a3a90>,\n",
       " 'Xt4': <pomps.fcm.Functor at 0x7fb8206e9f10>,\n",
       " 'Ct73': <pomps.fcm.Functor at 0x7fb8205a39d0>,\n",
       " 'Ct10': <pomps.fcm.Functor at 0x7fb82059f190>,\n",
       " 'Ct13': <pomps.fcm.Functor at 0x7fb82059f2e0>,\n",
       " 'Ct78': <pomps.fcm.Functor at 0x7fb8205a3be0>,\n",
       " 'Ct21': <pomps.fcm.Functor at 0x7fb82059f640>,\n",
       " 'Ct96': <pomps.fcm.Functor at 0x7fb8206e9250>,\n",
       " 'Xt20': <pomps.fcm.Functor at 0x7fb8207056a0>,\n",
       " 'Ct1': <pomps.fcm.Functor at 0x7fb82059edf0>,\n",
       " 'Ct104': <pomps.fcm.Functor at 0x7fb8206e9550>,\n",
       " 'Xt22': <pomps.fcm.Functor at 0x7fb8207057c0>,\n",
       " 'Ct93': <pomps.fcm.Functor at 0x7fb8206e9130>,\n",
       " 'Ct116': <pomps.fcm.Functor at 0x7fb8206e99d0>,\n",
       " 'Xt5': <pomps.fcm.Functor at 0x7fb8206e9f70>,\n",
       " 'Ct58': <pomps.fcm.Functor at 0x7fb8205a3460>,\n",
       " 'Ct45': <pomps.fcm.Functor at 0x7fb82059ff40>,\n",
       " 'Ct19': <pomps.fcm.Functor at 0x7fb82059f550>,\n",
       " 'Ct76': <pomps.fcm.Functor at 0x7fb8205a3b20>,\n",
       " 'Ct74': <pomps.fcm.Functor at 0x7fb8205a3a60>,\n",
       " 'Ct5': <pomps.fcm.Functor at 0x7fb82059ef70>,\n",
       " 'Ct40': <pomps.fcm.Functor at 0x7fb82059fd90>,\n",
       " 'Ct61': <pomps.fcm.Functor at 0x7fb8205a34f0>,\n",
       " 'C6': <pomps.fcm.Functor at 0x7fb82059ec40>,\n",
       " 'Ct109': <pomps.fcm.Functor at 0x7fb8206e9730>,\n",
       " 'Xt14': <pomps.fcm.Functor at 0x7fb820705310>,\n",
       " 'Ct46': <pomps.fcm.Functor at 0x7fb82059fcd0>,\n",
       " 'Ct117': <pomps.fcm.Functor at 0x7fb8206e9a30>,\n",
       " 'Ct71': <pomps.fcm.Functor at 0x7fb8205a38e0>,\n",
       " 'Ct54': <pomps.fcm.Functor at 0x7fb8205a32b0>,\n",
       " 'Ct4': <pomps.fcm.Functor at 0x7fb82059ef10>,\n",
       " 'Ct37': <pomps.fcm.Functor at 0x7fb82059fca0>,\n",
       " 'Ct51': <pomps.fcm.Functor at 0x7fb8205a3160>,\n",
       " 'Ct48': <pomps.fcm.Functor at 0x7fb82059f8e0>,\n",
       " 'Ct16': <pomps.fcm.Functor at 0x7fb82059f400>,\n",
       " 'Xt3': <pomps.fcm.Functor at 0x7fb8206e9eb0>,\n",
       " 'Ct60': <pomps.fcm.Functor at 0x7fb8205a32e0>,\n",
       " 'Ct97': <pomps.fcm.Functor at 0x7fb8206e92b0>,\n",
       " 'Ct92': <pomps.fcm.Functor at 0x7fb8206e90d0>,\n",
       " 'Ct18': <pomps.fcm.Functor at 0x7fb82059f4f0>,\n",
       " 'Ct87': <pomps.fcm.Functor at 0x7fb8205a3f10>,\n",
       " 'Ct121': <pomps.fcm.Functor at 0x7fb8206e9bb0>,\n",
       " 'C2': <pomps.fcm.Functor at 0x7fb82059eb20>,\n",
       " 'Ct122': <pomps.fcm.Functor at 0x7fb8206e9c10>,\n",
       " 'Ct34': <pomps.fcm.Functor at 0x7fb82059fbb0>,\n",
       " 'Ct65': <pomps.fcm.Functor at 0x7fb8205a3670>,\n",
       " 'Ct59': <pomps.fcm.Functor at 0x7fb8205a34c0>,\n",
       " 'Xt13': <pomps.fcm.Functor at 0x7fb8207052b0>,\n",
       " 'Ct14': <pomps.fcm.Functor at 0x7fb82059f310>,\n",
       " 'Ct11': <pomps.fcm.Functor at 0x7fb82059f1f0>,\n",
       " 'Xt9': <pomps.fcm.Functor at 0x7fb820705130>,\n",
       " 'Ct66': <pomps.fcm.Functor at 0x7fb8205a36d0>,\n",
       " 'Ct43': <pomps.fcm.Functor at 0x7fb82059feb0>,\n",
       " 'Ct15': <pomps.fcm.Functor at 0x7fb82059f370>,\n",
       " 'Ct25': <pomps.fcm.Functor at 0x7fb82059f760>,\n",
       " 'Ct52': <pomps.fcm.Functor at 0x7fb8205a31f0>,\n",
       " 'Ct39': <pomps.fcm.Functor at 0x7fb82059fd30>,\n",
       " 'Ct55': <pomps.fcm.Functor at 0x7fb8205a3340>,\n",
       " 'X1': <pomps.fcm.Functor at 0x7fb82059eac0>,\n",
       " 'Ct12': <pomps.fcm.Functor at 0x7fb82059f280>,\n",
       " 'Ct30': <pomps.fcm.Functor at 0x7fb82059fa30>,\n",
       " 'C3': <pomps.fcm.Functor at 0x7fb82059eb80>,\n",
       " 'Ct77': <pomps.fcm.Functor at 0x7fb8205a3b80>,\n",
       " 'Ct56': <pomps.fcm.Functor at 0x7fb8205a33a0>,\n",
       " 'Ct32': <pomps.fcm.Functor at 0x7fb82059faf0>,\n",
       " 'Ct64': <pomps.fcm.Functor at 0x7fb8205a3610>,\n",
       " 'Xt16': <pomps.fcm.Functor at 0x7fb820705460>,\n",
       " 'Ct35': <pomps.fcm.Functor at 0x7fb82059fc10>,\n",
       " 'Ct98': <pomps.fcm.Functor at 0x7fb8206e9310>,\n",
       " 'Ct108': <pomps.fcm.Functor at 0x7fb8206e96d0>,\n",
       " 'Ct57': <pomps.fcm.Functor at 0x7fb8205a3400>,\n",
       " 'Ct67': <pomps.fcm.Functor at 0x7fb8205a3730>,\n",
       " 'Xt18': <pomps.fcm.Functor at 0x7fb820705580>,\n",
       " 'Ct86': <pomps.fcm.Functor at 0x7fb8205a3eb0>,\n",
       " 'Xt19': <pomps.fcm.Functor at 0x7fb820705610>,\n",
       " 'Ct110': <pomps.fcm.Functor at 0x7fb8206e9790>,\n",
       " 'Ct0': <pomps.fcm.Functor at 0x7fb82059ed60>,\n",
       " 'Ct79': <pomps.fcm.Functor at 0x7fb8205a3c10>,\n",
       " 'Ct120': <pomps.fcm.Functor at 0x7fb8206e9b50>,\n",
       " 'Xt10': <pomps.fcm.Functor at 0x7fb820705190>,\n",
       " 'Ct2': <pomps.fcm.Functor at 0x7fb82059ee50>,\n",
       " 'Ct68': <pomps.fcm.Functor at 0x7fb8205a3790>,\n",
       " 'C5': <pomps.fcm.Functor at 0x7fb8206e9d90>,\n",
       " 'Ct29': <pomps.fcm.Functor at 0x7fb82059f910>,\n",
       " 'Ct9': <pomps.fcm.Functor at 0x7fb82059f130>,\n",
       " 'Ct3': <pomps.fcm.Functor at 0x7fb82059eeb0>,\n",
       " 'Xt0': <pomps.fcm.Functor at 0x7fb82059ed90>,\n",
       " 'Ct53': <pomps.fcm.Functor at 0x7fb8205a3220>,\n",
       " 'Ct72': <pomps.fcm.Functor at 0x7fb8205a3970>,\n",
       " 'C0': <pomps.fcm.Functor at 0x7fb82059ea00>,\n",
       " 'Ct42': <pomps.fcm.Functor at 0x7fb82059fe50>,\n",
       " 'Ct89': <pomps.fcm.Functor at 0x7fb8205a3fd0>,\n",
       " 'Ct100': <pomps.fcm.Functor at 0x7fb8206e93d0>,\n",
       " 'Xt2': <pomps.fcm.Functor at 0x7fb8206e9e50>,\n",
       " 'Xt23': <pomps.fcm.Functor at 0x7fb820705850>,\n",
       " 'Ct23': <pomps.fcm.Functor at 0x7fb82059f6a0>,\n",
       " 'Ct69': <pomps.fcm.Functor at 0x7fb8205a37f0>,\n",
       " 'Xt25': <pomps.fcm.Functor at 0x7fb820705970>,\n",
       " 'Ct111': <pomps.fcm.Functor at 0x7fb8206e97f0>,\n",
       " 'Ct36': <pomps.fcm.Functor at 0x7fb82059fc70>,\n",
       " 'Ct114': <pomps.fcm.Functor at 0x7fb8206e9910>,\n",
       " 'Ct105': <pomps.fcm.Functor at 0x7fb8206e95b0>,\n",
       " 'Ct82': <pomps.fcm.Functor at 0x7fb8205a3d30>,\n",
       " 'Xt26': <pomps.fcm.Functor at 0x7fb820705a00>,\n",
       " 'Ct41': <pomps.fcm.Functor at 0x7fb82059fdf0>,\n",
       " 'Ct85': <pomps.fcm.Functor at 0x7fb8205a3df0>,\n",
       " 'Ct91': <pomps.fcm.Functor at 0x7fb8206e9070>,\n",
       " 'Xt11': <pomps.fcm.Functor at 0x7fb8207051f0>,\n",
       " 'Xt15': <pomps.fcm.Functor at 0x7fb8207053a0>,\n",
       " 'Ct88': <pomps.fcm.Functor at 0x7fb8205a3f70>,\n",
       " 'Ct6': <pomps.fcm.Functor at 0x7fb82059efd0>,\n",
       " 'Ct107': <pomps.fcm.Functor at 0x7fb8206e9670>,\n",
       " 'Ct112': <pomps.fcm.Functor at 0x7fb8206e9850>,\n",
       " 'Ct106': <pomps.fcm.Functor at 0x7fb8206e9610>,\n",
       " 'Ct81': <pomps.fcm.Functor at 0x7fb8205a3cd0>,\n",
       " 'Ct70': <pomps.fcm.Functor at 0x7fb8205a3850>,\n",
       " 'Xt7': <pomps.fcm.Functor at 0x7fb820705070>,\n",
       " 'Ct102': <pomps.fcm.Functor at 0x7fb8206e9490>,\n",
       " 'Ct118': <pomps.fcm.Functor at 0x7fb8206e9a90>,\n",
       " 'Xt8': <pomps.fcm.Functor at 0x7fb8207050d0>,\n",
       " 'Ct123': <pomps.fcm.Functor at 0x7fb8206e9c70>,\n",
       " 'Ct50': <pomps.fcm.Functor at 0x7fb8205a30d0>,\n",
       " 'Ct17': <pomps.fcm.Functor at 0x7fb82059f490>,\n",
       " 'Ct124': <pomps.fcm.Functor at 0x7fb8206e9cd0>,\n",
       " 'Xt17': <pomps.fcm.Functor at 0x7fb8207054f0>,\n",
       " 'Ct47': <pomps.fcm.Functor at 0x7fb82059ffd0>,\n",
       " 'Ct33': <pomps.fcm.Functor at 0x7fb82059fb50>,\n",
       " 'Ct90': <pomps.fcm.Functor at 0x7fb8205a3e20>,\n",
       " 'Y': <pomps.fcm.Functor at 0x7fb82059ed00>,\n",
       " 'Ct22': <pomps.fcm.Functor at 0x7fb82059f670>,\n",
       " 'Ct84': <pomps.fcm.Functor at 0x7fb8205a3e50>,\n",
       " 'Ct94': <pomps.fcm.Functor at 0x7fb8206e9190>,\n",
       " 'Ct115': <pomps.fcm.Functor at 0x7fb8206e9970>,\n",
       " 'Ct62': <pomps.fcm.Functor at 0x7fb8205a3520>,\n",
       " 'Ct101': <pomps.fcm.Functor at 0x7fb8206e9430>,\n",
       " 'Ct103': <pomps.fcm.Functor at 0x7fb8206e94f0>,\n",
       " 'C1': <pomps.fcm.Functor at 0x7fb82059ea60>,\n",
       " 'X2': <pomps.fcm.Functor at 0x7fb82059eca0>,\n",
       " 'Xt1': <pomps.fcm.Functor at 0x7fb8206e9df0>,\n",
       " 'Xt6': <pomps.fcm.Functor at 0x7fb8206e9fd0>,\n",
       " 'Ct49': <pomps.fcm.Functor at 0x7fb8205a3070>,\n",
       " 'Xt12': <pomps.fcm.Functor at 0x7fb820705250>,\n",
       " 'Ct20': <pomps.fcm.Functor at 0x7fb82059f5e0>,\n",
       " 'C4': <pomps.fcm.Functor at 0x7fb82059ebe0>,\n",
       " 'Ct38': <pomps.fcm.Functor at 0x7fb82059f970>}"
      ]
     },
     "execution_count": 2,
     "metadata": {},
     "output_type": "execute_result"
    }
   ],
   "source": [
    "environ.fcm.functors"
   ]
  },
  {
   "cell_type": "code",
   "execution_count": null,
   "metadata": {
    "scrolled": true
   },
   "outputs": [
    {
     "data": {
      "application/vnd.jupyter.widget-view+json": {
       "model_id": "8b7f6dc69e264610b2a2774eb285e471",
       "version_major": 2,
       "version_minor": 0
      },
      "text/plain": [
       "  0%|          | 0/300 [00:00<?, ?it/s]"
      ]
     },
     "metadata": {},
     "output_type": "display_data"
    },
    {
     "name": "stdout",
     "output_type": "stream",
     "text": [
      "KeyboardInterrupt caught, calling on_optimization_end() to round things up\n"
     ]
    }
   ],
   "source": [
    "smoke_test = False\n",
    "n_iter = 300\n",
    "experiment_name = 'test_cobo_imp'\n",
    "\n",
    "exp = CoBOExperiment(environ.fcm, set([\"X1\", \"X2\"] + [f\"Xt{i}\" for i in range(n_inter)]),\n",
    "                          set([\"C1\", \"C0\", \"C2\", \"C3\", \"C4\"] + [f\"Ct{i}\" for i in range(n_context)]),\n",
    "                         environ.domain, \"Y\", [MixedPolicyScope(set())], debug=smoke_test,\n",
    "                         n_iter=16 if smoke_test else n_iter, experiment_name=experiment_name)\n",
    "# exp = CoBOExperiment(environ.fcm, {\"X1\", \"X2\"}, {\"C\"},\n",
    "#                          environ.domain, \"Y\", [MixedPolicyScope(set())], debug=smoke_test,\n",
    "#                          n_iter=16 if smoke_test else n_iter, experiment_name=experiment_name)\n",
    "# exp = CaBOExperiment(environ.fcm, {\"C\", \"U1\", \"U2\"},\n",
    "#                          environ.domain, \"Y\", n_iter=16 if smoke_test else n_iter,\n",
    "#                          experiment_name=experiment_name, objetive=OptimizationObjective.minimize)\n",
    "exp.iterate({\"smoke_test\": smoke_test, \"seed\": 42}, smoke_test=True)"
   ]
  },
  {
   "cell_type": "code",
   "execution_count": 14,
   "metadata": {},
   "outputs": [],
   "source": [
    "df = pd.DataFrame(exp._results_store).reset_index()\n",
    "df = df.sort_values(\"index\")\n",
    "df['EXP_ID'] = 0\n",
    "df['Regret'] = 1-df['Y']\n",
    "df['Cum_Regret'] = df['Regret'].cumsum()"
   ]
  },
  {
   "cell_type": "code",
   "execution_count": 15,
   "metadata": {},
   "outputs": [
    {
     "ename": "ValueError",
     "evalue": "Could not interpret value `C` for parameter `x`",
     "output_type": "error",
     "traceback": [
      "\u001b[0;31m---------------------------------------------------------------------------\u001b[0m",
      "\u001b[0;31mValueError\u001b[0m                                Traceback (most recent call last)",
      "Input \u001b[0;32mIn [15]\u001b[0m, in \u001b[0;36m<cell line: 1>\u001b[0;34m()\u001b[0m\n\u001b[0;32m----> 1\u001b[0m \u001b[43msns\u001b[49m\u001b[38;5;241;43m.\u001b[39;49m\u001b[43mscatterplot\u001b[49m\u001b[43m(\u001b[49m\u001b[43mdata\u001b[49m\u001b[38;5;241;43m=\u001b[39;49m\u001b[43mdf\u001b[49m\u001b[43m,\u001b[49m\u001b[43m \u001b[49m\u001b[43mx\u001b[49m\u001b[38;5;241;43m=\u001b[39;49m\u001b[38;5;124;43m'\u001b[39;49m\u001b[38;5;124;43mC\u001b[39;49m\u001b[38;5;124;43m'\u001b[39;49m\u001b[43m,\u001b[49m\u001b[43m \u001b[49m\u001b[43my\u001b[49m\u001b[38;5;241;43m=\u001b[39;49m\u001b[38;5;124;43m'\u001b[39;49m\u001b[38;5;124;43mX1\u001b[39;49m\u001b[38;5;124;43m'\u001b[39;49m\u001b[43m,\u001b[49m\u001b[43m \u001b[49m\u001b[43mhue\u001b[49m\u001b[38;5;241;43m=\u001b[39;49m\u001b[38;5;124;43m'\u001b[39;49m\u001b[38;5;124;43mindex\u001b[39;49m\u001b[38;5;124;43m'\u001b[39;49m\u001b[43m,\u001b[49m\u001b[43m \u001b[49m\u001b[43mstyle\u001b[49m\u001b[38;5;241;43m=\u001b[39;49m\u001b[38;5;124;43m'\u001b[39;49m\u001b[38;5;124;43mMPS\u001b[39;49m\u001b[38;5;124;43m'\u001b[39;49m\u001b[43m)\u001b[49m\n",
      "File \u001b[0;32m/opt/anaconda3/envs/SCMMABCOMBO/lib/python3.8/site-packages/seaborn/relational.py:742\u001b[0m, in \u001b[0;36mscatterplot\u001b[0;34m(data, x, y, hue, size, style, palette, hue_order, hue_norm, sizes, size_order, size_norm, markers, style_order, legend, ax, **kwargs)\u001b[0m\n\u001b[1;32m    732\u001b[0m \u001b[38;5;28;01mdef\u001b[39;00m \u001b[38;5;21mscatterplot\u001b[39m(\n\u001b[1;32m    733\u001b[0m     data\u001b[38;5;241m=\u001b[39m\u001b[38;5;28;01mNone\u001b[39;00m, \u001b[38;5;241m*\u001b[39m,\n\u001b[1;32m    734\u001b[0m     x\u001b[38;5;241m=\u001b[39m\u001b[38;5;28;01mNone\u001b[39;00m, y\u001b[38;5;241m=\u001b[39m\u001b[38;5;28;01mNone\u001b[39;00m, hue\u001b[38;5;241m=\u001b[39m\u001b[38;5;28;01mNone\u001b[39;00m, size\u001b[38;5;241m=\u001b[39m\u001b[38;5;28;01mNone\u001b[39;00m, style\u001b[38;5;241m=\u001b[39m\u001b[38;5;28;01mNone\u001b[39;00m,\n\u001b[0;32m   (...)\u001b[0m\n\u001b[1;32m    738\u001b[0m     \u001b[38;5;241m*\u001b[39m\u001b[38;5;241m*\u001b[39mkwargs\n\u001b[1;32m    739\u001b[0m ):\n\u001b[1;32m    741\u001b[0m     variables \u001b[38;5;241m=\u001b[39m _ScatterPlotter\u001b[38;5;241m.\u001b[39mget_semantics(\u001b[38;5;28mlocals\u001b[39m())\n\u001b[0;32m--> 742\u001b[0m     p \u001b[38;5;241m=\u001b[39m \u001b[43m_ScatterPlotter\u001b[49m\u001b[43m(\u001b[49m\u001b[43mdata\u001b[49m\u001b[38;5;241;43m=\u001b[39;49m\u001b[43mdata\u001b[49m\u001b[43m,\u001b[49m\u001b[43m \u001b[49m\u001b[43mvariables\u001b[49m\u001b[38;5;241;43m=\u001b[39;49m\u001b[43mvariables\u001b[49m\u001b[43m,\u001b[49m\u001b[43m \u001b[49m\u001b[43mlegend\u001b[49m\u001b[38;5;241;43m=\u001b[39;49m\u001b[43mlegend\u001b[49m\u001b[43m)\u001b[49m\n\u001b[1;32m    744\u001b[0m     p\u001b[38;5;241m.\u001b[39mmap_hue(palette\u001b[38;5;241m=\u001b[39mpalette, order\u001b[38;5;241m=\u001b[39mhue_order, norm\u001b[38;5;241m=\u001b[39mhue_norm)\n\u001b[1;32m    745\u001b[0m     p\u001b[38;5;241m.\u001b[39mmap_size(sizes\u001b[38;5;241m=\u001b[39msizes, order\u001b[38;5;241m=\u001b[39msize_order, norm\u001b[38;5;241m=\u001b[39msize_norm)\n",
      "File \u001b[0;32m/opt/anaconda3/envs/SCMMABCOMBO/lib/python3.8/site-packages/seaborn/relational.py:538\u001b[0m, in \u001b[0;36m_ScatterPlotter.__init__\u001b[0;34m(self, data, variables, legend)\u001b[0m\n\u001b[1;32m    529\u001b[0m \u001b[38;5;28;01mdef\u001b[39;00m \u001b[38;5;21m__init__\u001b[39m(\u001b[38;5;28mself\u001b[39m, \u001b[38;5;241m*\u001b[39m, data\u001b[38;5;241m=\u001b[39m\u001b[38;5;28;01mNone\u001b[39;00m, variables\u001b[38;5;241m=\u001b[39m{}, legend\u001b[38;5;241m=\u001b[39m\u001b[38;5;28;01mNone\u001b[39;00m):\n\u001b[1;32m    530\u001b[0m \n\u001b[1;32m    531\u001b[0m     \u001b[38;5;66;03m# TODO this is messy, we want the mapping to be agnostic about\u001b[39;00m\n\u001b[1;32m    532\u001b[0m     \u001b[38;5;66;03m# the kind of plot to draw, but for the time being we need to set\u001b[39;00m\n\u001b[1;32m    533\u001b[0m     \u001b[38;5;66;03m# this information so the SizeMapping can use it\u001b[39;00m\n\u001b[1;32m    534\u001b[0m     \u001b[38;5;28mself\u001b[39m\u001b[38;5;241m.\u001b[39m_default_size_range \u001b[38;5;241m=\u001b[39m (\n\u001b[1;32m    535\u001b[0m         np\u001b[38;5;241m.\u001b[39mr_[\u001b[38;5;241m.5\u001b[39m, \u001b[38;5;241m2\u001b[39m] \u001b[38;5;241m*\u001b[39m np\u001b[38;5;241m.\u001b[39msquare(mpl\u001b[38;5;241m.\u001b[39mrcParams[\u001b[38;5;124m\"\u001b[39m\u001b[38;5;124mlines.markersize\u001b[39m\u001b[38;5;124m\"\u001b[39m])\n\u001b[1;32m    536\u001b[0m     )\n\u001b[0;32m--> 538\u001b[0m     \u001b[38;5;28;43msuper\u001b[39;49m\u001b[43m(\u001b[49m\u001b[43m)\u001b[49m\u001b[38;5;241;43m.\u001b[39;49m\u001b[38;5;21;43m__init__\u001b[39;49m\u001b[43m(\u001b[49m\u001b[43mdata\u001b[49m\u001b[38;5;241;43m=\u001b[39;49m\u001b[43mdata\u001b[49m\u001b[43m,\u001b[49m\u001b[43m \u001b[49m\u001b[43mvariables\u001b[49m\u001b[38;5;241;43m=\u001b[39;49m\u001b[43mvariables\u001b[49m\u001b[43m)\u001b[49m\n\u001b[1;32m    540\u001b[0m     \u001b[38;5;28mself\u001b[39m\u001b[38;5;241m.\u001b[39mlegend \u001b[38;5;241m=\u001b[39m legend\n",
      "File \u001b[0;32m/opt/anaconda3/envs/SCMMABCOMBO/lib/python3.8/site-packages/seaborn/_oldcore.py:640\u001b[0m, in \u001b[0;36mVectorPlotter.__init__\u001b[0;34m(self, data, variables)\u001b[0m\n\u001b[1;32m    635\u001b[0m \u001b[38;5;66;03m# var_ordered is relevant only for categorical axis variables, and may\u001b[39;00m\n\u001b[1;32m    636\u001b[0m \u001b[38;5;66;03m# be better handled by an internal axis information object that tracks\u001b[39;00m\n\u001b[1;32m    637\u001b[0m \u001b[38;5;66;03m# such information and is set up by the scale_* methods. The analogous\u001b[39;00m\n\u001b[1;32m    638\u001b[0m \u001b[38;5;66;03m# information for numeric axes would be information about log scales.\u001b[39;00m\n\u001b[1;32m    639\u001b[0m \u001b[38;5;28mself\u001b[39m\u001b[38;5;241m.\u001b[39m_var_ordered \u001b[38;5;241m=\u001b[39m {\u001b[38;5;124m\"\u001b[39m\u001b[38;5;124mx\u001b[39m\u001b[38;5;124m\"\u001b[39m: \u001b[38;5;28;01mFalse\u001b[39;00m, \u001b[38;5;124m\"\u001b[39m\u001b[38;5;124my\u001b[39m\u001b[38;5;124m\"\u001b[39m: \u001b[38;5;28;01mFalse\u001b[39;00m}  \u001b[38;5;66;03m# alt., used DefaultDict\u001b[39;00m\n\u001b[0;32m--> 640\u001b[0m \u001b[38;5;28;43mself\u001b[39;49m\u001b[38;5;241;43m.\u001b[39;49m\u001b[43massign_variables\u001b[49m\u001b[43m(\u001b[49m\u001b[43mdata\u001b[49m\u001b[43m,\u001b[49m\u001b[43m \u001b[49m\u001b[43mvariables\u001b[49m\u001b[43m)\u001b[49m\n\u001b[1;32m    642\u001b[0m \u001b[38;5;28;01mfor\u001b[39;00m var, \u001b[38;5;28mcls\u001b[39m \u001b[38;5;129;01min\u001b[39;00m \u001b[38;5;28mself\u001b[39m\u001b[38;5;241m.\u001b[39m_semantic_mappings\u001b[38;5;241m.\u001b[39mitems():\n\u001b[1;32m    643\u001b[0m \n\u001b[1;32m    644\u001b[0m     \u001b[38;5;66;03m# Create the mapping function\u001b[39;00m\n\u001b[1;32m    645\u001b[0m     map_func \u001b[38;5;241m=\u001b[39m partial(\u001b[38;5;28mcls\u001b[39m\u001b[38;5;241m.\u001b[39mmap, plotter\u001b[38;5;241m=\u001b[39m\u001b[38;5;28mself\u001b[39m)\n",
      "File \u001b[0;32m/opt/anaconda3/envs/SCMMABCOMBO/lib/python3.8/site-packages/seaborn/_oldcore.py:701\u001b[0m, in \u001b[0;36mVectorPlotter.assign_variables\u001b[0;34m(self, data, variables)\u001b[0m\n\u001b[1;32m    699\u001b[0m \u001b[38;5;28;01melse\u001b[39;00m:\n\u001b[1;32m    700\u001b[0m     \u001b[38;5;28mself\u001b[39m\u001b[38;5;241m.\u001b[39minput_format \u001b[38;5;241m=\u001b[39m \u001b[38;5;124m\"\u001b[39m\u001b[38;5;124mlong\u001b[39m\u001b[38;5;124m\"\u001b[39m\n\u001b[0;32m--> 701\u001b[0m     plot_data, variables \u001b[38;5;241m=\u001b[39m \u001b[38;5;28;43mself\u001b[39;49m\u001b[38;5;241;43m.\u001b[39;49m\u001b[43m_assign_variables_longform\u001b[49m\u001b[43m(\u001b[49m\n\u001b[1;32m    702\u001b[0m \u001b[43m        \u001b[49m\u001b[43mdata\u001b[49m\u001b[43m,\u001b[49m\u001b[43m \u001b[49m\u001b[38;5;241;43m*\u001b[39;49m\u001b[38;5;241;43m*\u001b[39;49m\u001b[43mvariables\u001b[49m\u001b[43m,\u001b[49m\n\u001b[1;32m    703\u001b[0m \u001b[43m    \u001b[49m\u001b[43m)\u001b[49m\n\u001b[1;32m    705\u001b[0m \u001b[38;5;28mself\u001b[39m\u001b[38;5;241m.\u001b[39mplot_data \u001b[38;5;241m=\u001b[39m plot_data\n\u001b[1;32m    706\u001b[0m \u001b[38;5;28mself\u001b[39m\u001b[38;5;241m.\u001b[39mvariables \u001b[38;5;241m=\u001b[39m variables\n",
      "File \u001b[0;32m/opt/anaconda3/envs/SCMMABCOMBO/lib/python3.8/site-packages/seaborn/_oldcore.py:938\u001b[0m, in \u001b[0;36mVectorPlotter._assign_variables_longform\u001b[0;34m(self, data, **kwargs)\u001b[0m\n\u001b[1;32m    933\u001b[0m \u001b[38;5;28;01melif\u001b[39;00m \u001b[38;5;28misinstance\u001b[39m(val, (\u001b[38;5;28mstr\u001b[39m, \u001b[38;5;28mbytes\u001b[39m)):\n\u001b[1;32m    934\u001b[0m \n\u001b[1;32m    935\u001b[0m     \u001b[38;5;66;03m# This looks like a column name but we don't know what it means!\u001b[39;00m\n\u001b[1;32m    937\u001b[0m     err \u001b[38;5;241m=\u001b[39m \u001b[38;5;124mf\u001b[39m\u001b[38;5;124m\"\u001b[39m\u001b[38;5;124mCould not interpret value `\u001b[39m\u001b[38;5;132;01m{\u001b[39;00mval\u001b[38;5;132;01m}\u001b[39;00m\u001b[38;5;124m` for parameter `\u001b[39m\u001b[38;5;132;01m{\u001b[39;00mkey\u001b[38;5;132;01m}\u001b[39;00m\u001b[38;5;124m`\u001b[39m\u001b[38;5;124m\"\u001b[39m\n\u001b[0;32m--> 938\u001b[0m     \u001b[38;5;28;01mraise\u001b[39;00m \u001b[38;5;167;01mValueError\u001b[39;00m(err)\n\u001b[1;32m    940\u001b[0m \u001b[38;5;28;01melse\u001b[39;00m:\n\u001b[1;32m    941\u001b[0m \n\u001b[1;32m    942\u001b[0m     \u001b[38;5;66;03m# Otherwise, assume the value is itself data\u001b[39;00m\n\u001b[1;32m    943\u001b[0m \n\u001b[1;32m    944\u001b[0m     \u001b[38;5;66;03m# Raise when data object is present and a vector can't matched\u001b[39;00m\n\u001b[1;32m    945\u001b[0m     \u001b[38;5;28;01mif\u001b[39;00m \u001b[38;5;28misinstance\u001b[39m(data, pd\u001b[38;5;241m.\u001b[39mDataFrame) \u001b[38;5;129;01mand\u001b[39;00m \u001b[38;5;129;01mnot\u001b[39;00m \u001b[38;5;28misinstance\u001b[39m(val, pd\u001b[38;5;241m.\u001b[39mSeries):\n",
      "\u001b[0;31mValueError\u001b[0m: Could not interpret value `C` for parameter `x`"
     ]
    }
   ],
   "source": [
    "sns.scatterplot(data=df, x='C', y='X1', hue='index', style='MPS')"
   ]
  },
  {
   "cell_type": "code",
   "execution_count": 16,
   "metadata": {},
   "outputs": [
    {
     "data": {
      "text/plain": [
       "<AxesSubplot:ylabel='MPS'>"
      ]
     },
     "execution_count": 16,
     "metadata": {},
     "output_type": "execute_result"
    },
    {
     "ename": "ValueError",
     "evalue": "Image size of 188617x413 pixels is too large. It must be less than 2^16 in each direction.",
     "output_type": "error",
     "traceback": [
      "\u001b[0;31m---------------------------------------------------------------------------\u001b[0m",
      "\u001b[0;31mValueError\u001b[0m                                Traceback (most recent call last)",
      "File \u001b[0;32m/opt/anaconda3/envs/SCMMABCOMBO/lib/python3.8/site-packages/IPython/core/formatters.py:339\u001b[0m, in \u001b[0;36mBaseFormatter.__call__\u001b[0;34m(self, obj)\u001b[0m\n\u001b[1;32m    337\u001b[0m     \u001b[38;5;28;01mpass\u001b[39;00m\n\u001b[1;32m    338\u001b[0m \u001b[38;5;28;01melse\u001b[39;00m:\n\u001b[0;32m--> 339\u001b[0m     \u001b[38;5;28;01mreturn\u001b[39;00m \u001b[43mprinter\u001b[49m\u001b[43m(\u001b[49m\u001b[43mobj\u001b[49m\u001b[43m)\u001b[49m\n\u001b[1;32m    340\u001b[0m \u001b[38;5;66;03m# Finally look for special method names\u001b[39;00m\n\u001b[1;32m    341\u001b[0m method \u001b[38;5;241m=\u001b[39m get_real_method(obj, \u001b[38;5;28mself\u001b[39m\u001b[38;5;241m.\u001b[39mprint_method)\n",
      "File \u001b[0;32m/opt/anaconda3/envs/SCMMABCOMBO/lib/python3.8/site-packages/IPython/core/pylabtools.py:151\u001b[0m, in \u001b[0;36mprint_figure\u001b[0;34m(fig, fmt, bbox_inches, base64, **kwargs)\u001b[0m\n\u001b[1;32m    148\u001b[0m     \u001b[38;5;28;01mfrom\u001b[39;00m \u001b[38;5;21;01mmatplotlib\u001b[39;00m\u001b[38;5;21;01m.\u001b[39;00m\u001b[38;5;21;01mbackend_bases\u001b[39;00m \u001b[38;5;28;01mimport\u001b[39;00m FigureCanvasBase\n\u001b[1;32m    149\u001b[0m     FigureCanvasBase(fig)\n\u001b[0;32m--> 151\u001b[0m \u001b[43mfig\u001b[49m\u001b[38;5;241;43m.\u001b[39;49m\u001b[43mcanvas\u001b[49m\u001b[38;5;241;43m.\u001b[39;49m\u001b[43mprint_figure\u001b[49m\u001b[43m(\u001b[49m\u001b[43mbytes_io\u001b[49m\u001b[43m,\u001b[49m\u001b[43m \u001b[49m\u001b[38;5;241;43m*\u001b[39;49m\u001b[38;5;241;43m*\u001b[39;49m\u001b[43mkw\u001b[49m\u001b[43m)\u001b[49m\n\u001b[1;32m    152\u001b[0m data \u001b[38;5;241m=\u001b[39m bytes_io\u001b[38;5;241m.\u001b[39mgetvalue()\n\u001b[1;32m    153\u001b[0m \u001b[38;5;28;01mif\u001b[39;00m fmt \u001b[38;5;241m==\u001b[39m \u001b[38;5;124m'\u001b[39m\u001b[38;5;124msvg\u001b[39m\u001b[38;5;124m'\u001b[39m:\n",
      "File \u001b[0;32m/opt/anaconda3/envs/SCMMABCOMBO/lib/python3.8/site-packages/matplotlib/backend_bases.py:2255\u001b[0m, in \u001b[0;36mFigureCanvasBase.print_figure\u001b[0;34m(self, filename, dpi, facecolor, edgecolor, orientation, format, bbox_inches, pad_inches, bbox_extra_artists, backend, **kwargs)\u001b[0m\n\u001b[1;32m   2251\u001b[0m \u001b[38;5;28;01mtry\u001b[39;00m:\n\u001b[1;32m   2252\u001b[0m     \u001b[38;5;66;03m# _get_renderer may change the figure dpi (as vector formats\u001b[39;00m\n\u001b[1;32m   2253\u001b[0m     \u001b[38;5;66;03m# force the figure dpi to 72), so we need to set it again here.\u001b[39;00m\n\u001b[1;32m   2254\u001b[0m     \u001b[38;5;28;01mwith\u001b[39;00m cbook\u001b[38;5;241m.\u001b[39m_setattr_cm(\u001b[38;5;28mself\u001b[39m\u001b[38;5;241m.\u001b[39mfigure, dpi\u001b[38;5;241m=\u001b[39mdpi):\n\u001b[0;32m-> 2255\u001b[0m         result \u001b[38;5;241m=\u001b[39m \u001b[43mprint_method\u001b[49m\u001b[43m(\u001b[49m\n\u001b[1;32m   2256\u001b[0m \u001b[43m            \u001b[49m\u001b[43mfilename\u001b[49m\u001b[43m,\u001b[49m\n\u001b[1;32m   2257\u001b[0m \u001b[43m            \u001b[49m\u001b[43mfacecolor\u001b[49m\u001b[38;5;241;43m=\u001b[39;49m\u001b[43mfacecolor\u001b[49m\u001b[43m,\u001b[49m\n\u001b[1;32m   2258\u001b[0m \u001b[43m            \u001b[49m\u001b[43medgecolor\u001b[49m\u001b[38;5;241;43m=\u001b[39;49m\u001b[43medgecolor\u001b[49m\u001b[43m,\u001b[49m\n\u001b[1;32m   2259\u001b[0m \u001b[43m            \u001b[49m\u001b[43morientation\u001b[49m\u001b[38;5;241;43m=\u001b[39;49m\u001b[43morientation\u001b[49m\u001b[43m,\u001b[49m\n\u001b[1;32m   2260\u001b[0m \u001b[43m            \u001b[49m\u001b[43mbbox_inches_restore\u001b[49m\u001b[38;5;241;43m=\u001b[39;49m\u001b[43m_bbox_inches_restore\u001b[49m\u001b[43m,\u001b[49m\n\u001b[1;32m   2261\u001b[0m \u001b[43m            \u001b[49m\u001b[38;5;241;43m*\u001b[39;49m\u001b[38;5;241;43m*\u001b[39;49m\u001b[43mkwargs\u001b[49m\u001b[43m)\u001b[49m\n\u001b[1;32m   2262\u001b[0m \u001b[38;5;28;01mfinally\u001b[39;00m:\n\u001b[1;32m   2263\u001b[0m     \u001b[38;5;28;01mif\u001b[39;00m bbox_inches \u001b[38;5;129;01mand\u001b[39;00m restore_bbox:\n",
      "File \u001b[0;32m/opt/anaconda3/envs/SCMMABCOMBO/lib/python3.8/site-packages/matplotlib/backend_bases.py:1669\u001b[0m, in \u001b[0;36m_check_savefig_extra_args.<locals>.wrapper\u001b[0;34m(*args, **kwargs)\u001b[0m\n\u001b[1;32m   1661\u001b[0m     _api\u001b[38;5;241m.\u001b[39mwarn_deprecated(\n\u001b[1;32m   1662\u001b[0m         \u001b[38;5;124m'\u001b[39m\u001b[38;5;124m3.3\u001b[39m\u001b[38;5;124m'\u001b[39m, name\u001b[38;5;241m=\u001b[39mname,\n\u001b[1;32m   1663\u001b[0m         message\u001b[38;5;241m=\u001b[39m\u001b[38;5;124m'\u001b[39m\u001b[38;5;132;01m%(name)s\u001b[39;00m\u001b[38;5;124m() got unexpected keyword argument \u001b[39m\u001b[38;5;124m\"\u001b[39m\u001b[38;5;124m'\u001b[39m\n\u001b[1;32m   1664\u001b[0m                 \u001b[38;5;241m+\u001b[39m arg \u001b[38;5;241m+\u001b[39m \u001b[38;5;124m'\u001b[39m\u001b[38;5;124m\"\u001b[39m\u001b[38;5;124m which is no longer supported as of \u001b[39m\u001b[38;5;124m'\u001b[39m\n\u001b[1;32m   1665\u001b[0m                 \u001b[38;5;124m'\u001b[39m\u001b[38;5;132;01m%(since)s\u001b[39;00m\u001b[38;5;124m and will become an error \u001b[39m\u001b[38;5;124m'\u001b[39m\n\u001b[1;32m   1666\u001b[0m                 \u001b[38;5;124m'\u001b[39m\u001b[38;5;132;01m%(removal)s\u001b[39;00m\u001b[38;5;124m'\u001b[39m)\n\u001b[1;32m   1667\u001b[0m     kwargs\u001b[38;5;241m.\u001b[39mpop(arg)\n\u001b[0;32m-> 1669\u001b[0m \u001b[38;5;28;01mreturn\u001b[39;00m \u001b[43mfunc\u001b[49m\u001b[43m(\u001b[49m\u001b[38;5;241;43m*\u001b[39;49m\u001b[43margs\u001b[49m\u001b[43m,\u001b[49m\u001b[43m \u001b[49m\u001b[38;5;241;43m*\u001b[39;49m\u001b[38;5;241;43m*\u001b[39;49m\u001b[43mkwargs\u001b[49m\u001b[43m)\u001b[49m\n",
      "File \u001b[0;32m/opt/anaconda3/envs/SCMMABCOMBO/lib/python3.8/site-packages/matplotlib/backends/backend_agg.py:508\u001b[0m, in \u001b[0;36mFigureCanvasAgg.print_png\u001b[0;34m(self, filename_or_obj, metadata, pil_kwargs, *args)\u001b[0m\n\u001b[1;32m    459\u001b[0m \u001b[38;5;129m@_check_savefig_extra_args\u001b[39m\n\u001b[1;32m    460\u001b[0m \u001b[38;5;28;01mdef\u001b[39;00m \u001b[38;5;21mprint_png\u001b[39m(\u001b[38;5;28mself\u001b[39m, filename_or_obj, \u001b[38;5;241m*\u001b[39margs,\n\u001b[1;32m    461\u001b[0m               metadata\u001b[38;5;241m=\u001b[39m\u001b[38;5;28;01mNone\u001b[39;00m, pil_kwargs\u001b[38;5;241m=\u001b[39m\u001b[38;5;28;01mNone\u001b[39;00m):\n\u001b[1;32m    462\u001b[0m     \u001b[38;5;124;03m\"\"\"\u001b[39;00m\n\u001b[1;32m    463\u001b[0m \u001b[38;5;124;03m    Write the figure to a PNG file.\u001b[39;00m\n\u001b[1;32m    464\u001b[0m \n\u001b[0;32m   (...)\u001b[0m\n\u001b[1;32m    506\u001b[0m \u001b[38;5;124;03m        *metadata*, including the default 'Software' key.\u001b[39;00m\n\u001b[1;32m    507\u001b[0m \u001b[38;5;124;03m    \"\"\"\u001b[39;00m\n\u001b[0;32m--> 508\u001b[0m     \u001b[43mFigureCanvasAgg\u001b[49m\u001b[38;5;241;43m.\u001b[39;49m\u001b[43mdraw\u001b[49m\u001b[43m(\u001b[49m\u001b[38;5;28;43mself\u001b[39;49m\u001b[43m)\u001b[49m\n\u001b[1;32m    509\u001b[0m     mpl\u001b[38;5;241m.\u001b[39mimage\u001b[38;5;241m.\u001b[39mimsave(\n\u001b[1;32m    510\u001b[0m         filename_or_obj, \u001b[38;5;28mself\u001b[39m\u001b[38;5;241m.\u001b[39mbuffer_rgba(), \u001b[38;5;28mformat\u001b[39m\u001b[38;5;241m=\u001b[39m\u001b[38;5;124m\"\u001b[39m\u001b[38;5;124mpng\u001b[39m\u001b[38;5;124m\"\u001b[39m, origin\u001b[38;5;241m=\u001b[39m\u001b[38;5;124m\"\u001b[39m\u001b[38;5;124mupper\u001b[39m\u001b[38;5;124m\"\u001b[39m,\n\u001b[1;32m    511\u001b[0m         dpi\u001b[38;5;241m=\u001b[39m\u001b[38;5;28mself\u001b[39m\u001b[38;5;241m.\u001b[39mfigure\u001b[38;5;241m.\u001b[39mdpi, metadata\u001b[38;5;241m=\u001b[39mmetadata, pil_kwargs\u001b[38;5;241m=\u001b[39mpil_kwargs)\n",
      "File \u001b[0;32m/opt/anaconda3/envs/SCMMABCOMBO/lib/python3.8/site-packages/matplotlib/backends/backend_agg.py:401\u001b[0m, in \u001b[0;36mFigureCanvasAgg.draw\u001b[0;34m(self)\u001b[0m\n\u001b[1;32m    399\u001b[0m \u001b[38;5;28;01mdef\u001b[39;00m \u001b[38;5;21mdraw\u001b[39m(\u001b[38;5;28mself\u001b[39m):\n\u001b[1;32m    400\u001b[0m     \u001b[38;5;66;03m# docstring inherited\u001b[39;00m\n\u001b[0;32m--> 401\u001b[0m     \u001b[38;5;28mself\u001b[39m\u001b[38;5;241m.\u001b[39mrenderer \u001b[38;5;241m=\u001b[39m \u001b[38;5;28;43mself\u001b[39;49m\u001b[38;5;241;43m.\u001b[39;49m\u001b[43mget_renderer\u001b[49m\u001b[43m(\u001b[49m\u001b[43mcleared\u001b[49m\u001b[38;5;241;43m=\u001b[39;49m\u001b[38;5;28;43;01mTrue\u001b[39;49;00m\u001b[43m)\u001b[49m\n\u001b[1;32m    402\u001b[0m     \u001b[38;5;66;03m# Acquire a lock on the shared font cache.\u001b[39;00m\n\u001b[1;32m    403\u001b[0m     \u001b[38;5;28;01mwith\u001b[39;00m RendererAgg\u001b[38;5;241m.\u001b[39mlock, \\\n\u001b[1;32m    404\u001b[0m          (\u001b[38;5;28mself\u001b[39m\u001b[38;5;241m.\u001b[39mtoolbar\u001b[38;5;241m.\u001b[39m_wait_cursor_for_draw_cm() \u001b[38;5;28;01mif\u001b[39;00m \u001b[38;5;28mself\u001b[39m\u001b[38;5;241m.\u001b[39mtoolbar\n\u001b[1;32m    405\u001b[0m           \u001b[38;5;28;01melse\u001b[39;00m nullcontext()):\n",
      "File \u001b[0;32m/opt/anaconda3/envs/SCMMABCOMBO/lib/python3.8/site-packages/matplotlib/backends/backend_agg.py:417\u001b[0m, in \u001b[0;36mFigureCanvasAgg.get_renderer\u001b[0;34m(self, cleared)\u001b[0m\n\u001b[1;32m    414\u001b[0m reuse_renderer \u001b[38;5;241m=\u001b[39m (\u001b[38;5;28mhasattr\u001b[39m(\u001b[38;5;28mself\u001b[39m, \u001b[38;5;124m\"\u001b[39m\u001b[38;5;124mrenderer\u001b[39m\u001b[38;5;124m\"\u001b[39m)\n\u001b[1;32m    415\u001b[0m                   \u001b[38;5;129;01mand\u001b[39;00m \u001b[38;5;28mgetattr\u001b[39m(\u001b[38;5;28mself\u001b[39m, \u001b[38;5;124m\"\u001b[39m\u001b[38;5;124m_lastKey\u001b[39m\u001b[38;5;124m\"\u001b[39m, \u001b[38;5;28;01mNone\u001b[39;00m) \u001b[38;5;241m==\u001b[39m key)\n\u001b[1;32m    416\u001b[0m \u001b[38;5;28;01mif\u001b[39;00m \u001b[38;5;129;01mnot\u001b[39;00m reuse_renderer:\n\u001b[0;32m--> 417\u001b[0m     \u001b[38;5;28mself\u001b[39m\u001b[38;5;241m.\u001b[39mrenderer \u001b[38;5;241m=\u001b[39m \u001b[43mRendererAgg\u001b[49m\u001b[43m(\u001b[49m\u001b[43mw\u001b[49m\u001b[43m,\u001b[49m\u001b[43m \u001b[49m\u001b[43mh\u001b[49m\u001b[43m,\u001b[49m\u001b[43m \u001b[49m\u001b[38;5;28;43mself\u001b[39;49m\u001b[38;5;241;43m.\u001b[39;49m\u001b[43mfigure\u001b[49m\u001b[38;5;241;43m.\u001b[39;49m\u001b[43mdpi\u001b[49m\u001b[43m)\u001b[49m\n\u001b[1;32m    418\u001b[0m     \u001b[38;5;28mself\u001b[39m\u001b[38;5;241m.\u001b[39m_lastKey \u001b[38;5;241m=\u001b[39m key\n\u001b[1;32m    419\u001b[0m \u001b[38;5;28;01melif\u001b[39;00m cleared:\n",
      "File \u001b[0;32m/opt/anaconda3/envs/SCMMABCOMBO/lib/python3.8/site-packages/matplotlib/backends/backend_agg.py:91\u001b[0m, in \u001b[0;36mRendererAgg.__init__\u001b[0;34m(self, width, height, dpi)\u001b[0m\n\u001b[1;32m     89\u001b[0m \u001b[38;5;28mself\u001b[39m\u001b[38;5;241m.\u001b[39mwidth \u001b[38;5;241m=\u001b[39m width\n\u001b[1;32m     90\u001b[0m \u001b[38;5;28mself\u001b[39m\u001b[38;5;241m.\u001b[39mheight \u001b[38;5;241m=\u001b[39m height\n\u001b[0;32m---> 91\u001b[0m \u001b[38;5;28mself\u001b[39m\u001b[38;5;241m.\u001b[39m_renderer \u001b[38;5;241m=\u001b[39m \u001b[43m_RendererAgg\u001b[49m\u001b[43m(\u001b[49m\u001b[38;5;28;43mint\u001b[39;49m\u001b[43m(\u001b[49m\u001b[43mwidth\u001b[49m\u001b[43m)\u001b[49m\u001b[43m,\u001b[49m\u001b[43m \u001b[49m\u001b[38;5;28;43mint\u001b[39;49m\u001b[43m(\u001b[49m\u001b[43mheight\u001b[49m\u001b[43m)\u001b[49m\u001b[43m,\u001b[49m\u001b[43m \u001b[49m\u001b[43mdpi\u001b[49m\u001b[43m)\u001b[49m\n\u001b[1;32m     92\u001b[0m \u001b[38;5;28mself\u001b[39m\u001b[38;5;241m.\u001b[39m_filter_renderers \u001b[38;5;241m=\u001b[39m []\n\u001b[1;32m     94\u001b[0m \u001b[38;5;28mself\u001b[39m\u001b[38;5;241m.\u001b[39m_update_methods()\n",
      "\u001b[0;31mValueError\u001b[0m: Image size of 188617x413 pixels is too large. It must be less than 2^16 in each direction."
     ]
    },
    {
     "data": {
      "text/plain": [
       "<Figure size 640x480 with 1 Axes>"
      ]
     },
     "metadata": {},
     "output_type": "display_data"
    }
   ],
   "source": [
    "sns.lineplot(df.MPS)"
   ]
  },
  {
   "cell_type": "code",
   "execution_count": 17,
   "metadata": {},
   "outputs": [
    {
     "data": {
      "text/plain": [
       "<AxesSubplot:>"
      ]
     },
     "execution_count": 17,
     "metadata": {},
     "output_type": "execute_result"
    },
    {
     "data": {
      "image/png": "[encoded data removed]",
      "text/plain": [
       "<Figure size 640x480 with 1 Axes>"
      ]
     },
     "metadata": {},
     "output_type": "display_data"
    }
   ],
   "source": [
    "df.Cum_Regret.plot()"
   ]
  },
  {
   "cell_type": "code",
   "execution_count": 25,
   "metadata": {},
   "outputs": [
    {
     "ename": "SyntaxError",
     "evalue": "invalid syntax (1779861486.py, line 1)",
     "output_type": "error",
     "traceback": [
      "\u001b[0;36m  Input \u001b[0;32mIn [25]\u001b[0;36m\u001b[0m\n\u001b[0;31m    exp.\u001b[0m\n\u001b[0m        ^\u001b[0m\n\u001b[0;31mSyntaxError\u001b[0m\u001b[0;31m:\u001b[0m invalid syntax\n"
     ]
    }
   ],
   "source": [
    "exp."
   ]
  },
  {
   "cell_type": "code",
   "execution_count": null,
   "metadata": {},
   "outputs": [],
   "source": []
  },
  {
   "cell_type": "code",
   "execution_count": null,
   "metadata": {},
   "outputs": [],
   "source": []
  }
 ],
 "metadata": {
  "kernelspec": {
   "display_name": "Python 3 (ipykernel)",
   "language": "python",
   "name": "python3"
  },
  "language_info": {
   "codemirror_mode": {
    "name": "ipython",
    "version": 3
   },
   "file_extension": ".py",
   "mimetype": "text/x-python",
   "name": "python",
   "nbconvert_exporter": "python",
   "pygments_lexer": "ipython3",
   "version": "3.8.13"
  }
 },
 "nbformat": 4,
 "nbformat_minor": 1
}
