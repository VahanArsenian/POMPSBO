{
 "cells": [
  {
   "cell_type": "code",
   "execution_count": 1,
   "id": "8f15eeca-fe7c-4f16-a371-4a17b19afe3c",
   "metadata": {},
   "outputs": [],
   "source": [
    "import sys\n",
    "sys.path.append(\"../../POMPSBO/\")\n",
    "from pomps.fcm import FunctionalCausalModel\n",
    "from pomis.scm import Domain, RealDomain\n",
    "import pyro\n",
    "import torch\n",
    "import pyro.distributions as dist\n",
    "from pomps.fcm import FunctionalCausalModel, Functor\n",
    "import typing as tp\n",
    "import pandas as pd"
   ]
  },
  {
   "cell_type": "code",
   "execution_count": 2,
   "id": "c107dc01-228e-4970-a9c3-861cfdc1e52d",
   "metadata": {},
   "outputs": [],
   "source": [
    "def latents():\n",
    "    u1 = pyro.sample(\"error5\", dist.Uniform(-1, 1))\n",
    "    u2 = pyro.sample(\"error2\", dist.Uniform(-1, 1))\n",
    "    u3 = pyro.sample(\"app_views_count\", dist.Poisson(100))\n",
    "    return {\"error5\": u1, 'error2': u2, 'app_views_count': u3}#, \"U2\": u2}"
   ]
  },
  {
   "cell_type": "code",
   "execution_count": 4,
   "id": "a4db442a-3f77-4e94-94dc-0c3acec0716c",
   "metadata": {},
   "outputs": [],
   "source": [
    "std = 0.42\n",
    "\n",
    "def country_to_con_t_logits(country):\n",
    "    return -0.9362607 + 0.4905761*country\n",
    "\n",
    "def country_to_day_p_logits(country):\n",
    "    return 0.1089 + 0.9141*country\n",
    "\n",
    "def to_device(country, connection_type):\n",
    "    return -0.5022 -1.5922*country -0.1550*connection_type\n",
    "\n",
    "def to_exchange(device, day_part, country):\n",
    "    return -34045.091*device -2973.584*day_part + 54712.746*country -34045.091*(device**2) + 365.688*device*day_part -53906.752*device*country + 570.279*(day_part**2) + 1667.335*day_part*country + 54712.746*(country**2)\n",
    "\n",
    "def to_budget(country, exchange):\n",
    "     return 397.04*country + 0.00375*exchange + 397.042*(country**2) + 0.00043*country*exchange -5.9e-09*(exchange**2) \n",
    "    \n",
    "def to_ad_type(category, connection_type, exchange):\n",
    "    return 0.8619 + 2.2977*exchange -0.3002*connection_type + 2.8386*category\n",
    "\n",
    "def to_creative(category, device, ad_type, error5):\n",
    "    return -0.00196*category -8980.50169*device + 53.20869*ad_type -0.0*(category**2) + 0.42262*category*device \\\n",
    "            + 0.19588*category*ad_type -8980.50169*(device**2) + 12626.37185*device*ad_type + 53.20869*(ad_type**2) \\\n",
    "            + 8.191084166028143e-09+ 1.75769292*error5\n",
    "\n",
    "def to_user_profile(RT, SK, UA, ad_type, creative, country, exchange, error2):\n",
    "    return -6.216e-07 + 9.83*RT -6.6*SK -3.23*UA -1.32*ad_type -0.0006*creative -0.86*country -6.2778e-06*exchange + 9.8*(RT**2) -3e-10*RT*SK -1e-10*RT*UA -9.23*RT*ad_type -0.0016*RT*creative + 11.55*RT*country -4.9848e-06*RT*exchange -6.6*(SK**2) + 3.3*SK*ad_type + 0.00059*SK*creative -3.7*SK*country + 1.4834e-06*SK*exchange -3.23*(UA**2) + 4.6*UA*ad_type + 0.0005*UA*creative -8.7*UA*country -2.7679e-06*UA*exchange -1.32*(ad_type**2) -3.35407e-05*ad_type*creative -5.7*ad_type*country + 5.4636e-06*ad_type*exchange -1e-10*(creative**2) + 7.60864e-05*creative*country + 1e-10*creative*exchange -0.86*(country**2) + 2.13998e-05*country*exchange -0.0*(exchange**2) + 2.020344363166225e-11 + 0.97971552*error2\n",
    "\n",
    "def to_goal(exchange, country):\n",
    "    return -7.27945e-05*exchange + 35.4976*country + 1e-10*(exchange**2) -9.24829e-05*exchange*country + 35.5*(country**2)\n",
    "\n",
    "def to_probability(category, ad_type, user_profile, day_part, country, connection_type, exchange):\n",
    "     return 3.6e-09 -3.4e-09*category -0.0017*ad_type -4.2267e-06*user_profile -8.96551e-05*day_part -0.00076*country -3.22984e-05*connection_type + 1e-10*exchange + 0.0*(category**2) + 2.6e-09*category*ad_type + 0.0*category*user_profile + 0.0*category*day_part + 1e-10*category*country + 1e-10*category*connection_type -0.0*category*exchange -0.00173*(ad_type**2) + 3.1211e-06*ad_type*user_profile + 4.27544e-05*ad_type*day_part + 0.00163*ad_type*country + 0.00035*ad_type*connection_type -7e-10*ad_type*exchange + 1.7e-09*(user_profile**2) + 2.27e-08*user_profile*day_part + 1.9398e-06*user_profile*country -2.991e-07*user_profile*connection_type -0.0*user_profile*exchange + 5.0122e-06*(day_part**2) + 3.3536e-06*day_part*country + 1.3187e-05*day_part*connection_type + 0.0*day_part*exchange -0.00076*(country**2) -7.76586e-05*country*connection_type -4e-10*country*exchange -9.68951e-05*(connection_type**2) -1e-10*connection_type*exchange + 0.0*(exchange**2)\n",
    "    \n",
    "def to_bid_price(goal, budget, ad_type, day_part, exchange, country, probability, app_views_count):\n",
    "    return  -0.004 -0.037*goal -0.003*budget -9.882*ad_type -0.593*day_part -0.0*exchange -11.343*country -770.665*probability + 0.0*(goal**2) -0.0*goal*budget -0.007*goal*ad_type + 0.001*goal*day_part -0.0*goal*exchange + 0.051*goal*country + 2.318*goal*probability + 0.0*(budget**2) -0.001*budget*ad_type + 0.0*budget*day_part + 0.0*budget*exchange + 0.001*budget*country + 0.512*budget*probability -9.863*(ad_type**2) + 0.5*ad_type*day_part + 0.0*ad_type*exchange + 10.304*ad_type*country + 553.419*ad_type*probability -0.128*(day_part**2) + 0.0*day_part*exchange + 0.696*day_part*country -20.468*day_part*probability -0.0*(exchange**2) + 0.0*exchange*country + 0.001*exchange*probability -11.342*(country**2) + 826.853*country*probability + 491.348*(probability**2) -2.049786790812473e-11 + 0.99235287*app_views_count\n",
    "\n",
    "def to_impressions(bid_price, day_part, user_profile, ad_type, country, creative, category, exchange):\n",
    "     return(-5.5663 + 6.9396*bid_price -0.0954*day_part + 6.7361*user_profile + 1.2766*ad_type -0.0780*country + 0.0173*creative + 0.8825*category -0.9427*exchange)\n",
    "    \n",
    "def to_click(exchange, creative, ad_type, country, user_profile, probability, impressions, ):\n",
    "    return (-1.9162808 + 0.4774666*exchange -1.6800447*creative -5.0000760*ad_type -0.3616471*country -4.5300518*user_profile + 11.2189913*probability + 4.6414798*impressions)\n",
    "\n",
    "def to_installs(category, creative, ad_type, country, user_profile, probability, impressions, clicks, exchange):\n",
    "    return (-6.3968 -2.0413*category -0.0523*impressions -3.6981*user_profile + 11.1342*probability + 14.8660*clicks -3.8073*creative -1.1441*country -0.7202*exchange)\n",
    "\n",
    "def to_purchases(ad_type, installs, country, clicks, category, device, user_profile, creative,impressions, probability, exchange):\n",
    "    return (-13.1807 -0.8743*ad_type + 2.9148*installs -0.2362*country + 0.0125*clicks -0.4308*category + 1.1486*device -0.0320*user_profile -0.2640*creative -0.0001*impressions + 0.0067*probability -0.2261*exchange)\n",
    "\n",
    "def to_revenue(budget, purchases, bid_price, country, exchange, category):\n",
    "    return 3.6e-09 -3.4e-09*budget -0.0017334935*purchases -4.2267e-06*bid_price -8.96551e-05*country -0.0007567844*exchange -3.22984e-05*category +  1e-10*(budget**2) + 0.0*budget*purchases + 2.6e-09*budget*bid_price + 0.0*budget*country + 0.0*budget*exchange + 1e-10*budget*category +1e-10*(purchases**2) -0.0*purchases*bid_price -0.0017*purchases*country + 3.1211e-06*purchases*exchange + 4.27544e-05*purchases*category + 0.0016*(bid_price**2) + 0.00035*bid_price*country -7e-10*bid_price*exchange + 1.7e-09*bid_price*category + 2.27e-08*(country**2) + 1.9398e-06*country*exchange -2.991e-07*country*category  -0.0*(exchange**2) + 5.0122e-06*exchange*category + 3.3536e-06*(category**2)"
   ]
  },
  {
   "cell_type": "code",
   "execution_count": 5,
   "id": "27f38ece-ea0c-4acb-b474-0fce8c8c58b3",
   "metadata": {},
   "outputs": [],
   "source": [
    "scm = FunctionalCausalModel({\n",
    "    Functor(lambda: pyro.sample(\"country\", dist.Categorical(probs=torch.tensor([0.5,0.5]))), 'country'),\n",
    "    Functor(lambda: pyro.sample(\"category\", dist.Categorical(probs=torch.tensor([0.5,0.5]))), 'category'),\n",
    "    Functor(lambda: pyro.sample(\"RT\", dist.Bernoulli(probs=torch.tensor(0.5))), 'RT'),\n",
    "    Functor(lambda: pyro.sample(\"SK\", dist.Bernoulli(probs=torch.tensor(0.5))), 'SK'),\n",
    "    Functor(lambda: pyro.sample(\"UA\", dist.Bernoulli(probs=torch.tensor(0.5))), 'UA'),\n",
    "    Functor(lambda country: pyro.sample(\"connection_type\", dist.Bernoulli(logits=(country_to_con_t_logits(country)))), 'connection_type'),\n",
    "    Functor(lambda country: pyro.sample(\"day_part\", dist.Bernoulli(logits=(country_to_day_p_logits(country)))), 'day_part'),\n",
    "    Functor(lambda country, connection_type: pyro.sample(\"device\", dist.Bernoulli(logits=(to_device(country, connection_type)))), 'device'),\n",
    "    Functor(lambda device, day_part, country: pyro.sample(\"exchange\", dist.Normal(to_exchange(device, day_part, country), std)), 'exchange'),\n",
    "    Functor(lambda country, exchange: pyro.sample(\"budget\", dist.Normal(to_budget(country, exchange), std)), 'budget'),\n",
    "    Functor(lambda category, connection_type, exchange: pyro.sample(\"ad_type\", dist.Bernoulli(logits=to_ad_type(category, connection_type, exchange))), 'ad_type'),\n",
    "    Functor(lambda category, device, ad_type, error5: pyro.sample(\"creative\", dist.Normal(to_creative(category, device, ad_type, error5), std)), 'creative'),\n",
    "    Functor(lambda RT, SK, UA, ad_type, creative, country, exchange, error2: pyro.sample(\"user_profile\", dist.Normal(to_user_profile(RT, SK, UA, ad_type, creative, country, exchange, error2), std)), 'user_profile'),\n",
    "    Functor(lambda exchange, country: pyro.sample(\"goal\", dist.Normal(to_goal(exchange, country), std)), 'goal'),\n",
    "    Functor(lambda category, ad_type, user_profile, day_part, country, connection_type, exchange: pyro.sample(\"probability\", dist.Normal(to_probability(category, ad_type, user_profile, day_part, country, connection_type, exchange), std)), 'probability'),\n",
    "    Functor(lambda goal, budget, ad_type, day_part, exchange, country, probability, app_views_count: pyro.sample(\"bid_price\", dist.Normal(to_bid_price(goal, budget, ad_type, day_part, exchange, country, probability, app_views_count), std)), 'bid_price'),\n",
    "    Functor(lambda bid_price, day_part, user_profile, ad_type, country, creative, category, exchange: pyro.sample(\"impressions\", dist.Bernoulli(logits=to_impressions(bid_price, day_part, user_profile, ad_type, country, creative, category, exchange))), 'impressions'),\n",
    "    Functor(lambda exchange, creative, ad_type, country, user_profile, probability, impressions: pyro.sample(\"clicks\", dist.Bernoulli(logits=to_click(exchange, creative, ad_type, country, user_profile, probability, impressions))), 'clicks'),\n",
    "    Functor(lambda category, creative, ad_type, country, user_profile, probability, impressions, clicks, exchange: pyro.sample(\"installs\", dist.Bernoulli(logits=to_installs(category, creative, ad_type, country, user_profile, probability, impressions, clicks, exchange))), 'installs'),\n",
    "    Functor(lambda category, creative, ad_type, country, user_profile, probability, impressions, clicks, exchange: pyro.sample(\"purchases\", dist.Bernoulli(logits=to_installs(category, creative, ad_type, country, user_profile, probability, impressions, clicks, exchange))), 'purchases'),\n",
    "    Functor(lambda ad_type, installs, country, clicks, category, device, user_profile, creative,impressions, probability, exchange: pyro.sample(\"purchases\", dist.Bernoulli(logits=to_purchases(ad_type, installs, country, clicks, category, device, user_profile, creative,impressions, probability, exchange))), 'purchases'),\n",
    "    Functor(lambda budget, purchases, bid_price, country, exchange, category: pyro.sample(\"revenue\", dist.Normal(to_revenue(budget, purchases, bid_price, country, exchange, category), std)), 'revenue'),\n",
    "\n",
    "}\n",
    "    , latents)"
   ]
  },
  {
   "cell_type": "code",
   "execution_count": 13,
   "id": "7d4fd8bd-c60f-4bb2-81cb-388962a4b518",
   "metadata": {},
   "outputs": [],
   "source": [
    "a = [scm.sample() for i in range(1_000)]"
   ]
  },
  {
   "cell_type": "code",
   "execution_count": 38,
   "id": "8f942bcb-b9d5-4c5d-9bf6-9f031996b676",
   "metadata": {},
   "outputs": [
    {
     "data": {
      "text/plain": [
       "tensor(74.3662)"
      ]
     },
     "execution_count": 38,
     "metadata": {},
     "output_type": "execute_result"
    }
   ],
   "source": [
    "pd.DataFrame(a).goal.max()"
   ]
  },
  {
   "cell_type": "code",
   "execution_count": 39,
   "id": "426cde4a-b11b-4204-b5aa-eb0fbe6e1e16",
   "metadata": {},
   "outputs": [],
   "source": [
    "from pomis.scm import Domain, RealDomain, BoolDomain\n",
    "\n",
    "domain = [BoolDomain('ad_type'), RealDomain('budget', 10, 1100),\n",
    "          RealDomain('creative', -17000, 100), RealDomain('goal', -1, 74)]"
   ]
  },
  {
   "cell_type": "code",
   "execution_count": 40,
   "id": "d4d6713d-3522-4610-bd39-8dca32d22704",
   "metadata": {},
   "outputs": [],
   "source": [
    "from experiments.causal_bo_experiment import CaBOExperiment, OptimizationObjective\n",
    "non_int = (scm.endogenous - {d.name for d in domain})\n",
    "smoke_test=True"
   ]
  },
  {
   "cell_type": "code",
   "execution_count": 41,
   "id": "04476a7a-749c-43da-87e0-f6d960866372",
   "metadata": {},
   "outputs": [
    {
     "data": {
      "text/plain": [
       "{'RT',\n",
       " 'SK',\n",
       " 'UA',\n",
       " 'bid_price',\n",
       " 'category',\n",
       " 'clicks',\n",
       " 'connection_type',\n",
       " 'country',\n",
       " 'day_part',\n",
       " 'device',\n",
       " 'exchange',\n",
       " 'impressions',\n",
       " 'installs',\n",
       " 'probability',\n",
       " 'purchases',\n",
       " 'revenue',\n",
       " 'user_profile'}"
      ]
     },
     "execution_count": 41,
     "metadata": {},
     "output_type": "execute_result"
    }
   ],
   "source": [
    "non_int"
   ]
  },
  {
   "cell_type": "code",
   "execution_count": 50,
   "id": "12a233fc-e8f8-4ad9-a8e3-3279f561ddcf",
   "metadata": {},
   "outputs": [
    {
     "ename": "NotImplementedError",
     "evalue": "",
     "output_type": "error",
     "traceback": [
      "\u001b[1;31m---------------------------------------------------------------------------\u001b[0m",
      "\u001b[1;31mNotImplementedError\u001b[0m                       Traceback (most recent call last)",
      "Input \u001b[1;32mIn [50]\u001b[0m, in \u001b[0;36m<cell line: 1>\u001b[1;34m()\u001b[0m\n\u001b[1;32m----> 1\u001b[0m \u001b[43mscm\u001b[49m\u001b[38;5;241;43m.\u001b[39;49m\u001b[43minduced_graph\u001b[49m\u001b[43m(\u001b[49m\u001b[43m)\u001b[49m\u001b[38;5;241;43m.\u001b[39;49m\u001b[43mtopological_order\u001b[49m\u001b[43m(\u001b[49m\u001b[43minclude_uc\u001b[49m\u001b[38;5;241;43m=\u001b[39;49m\u001b[38;5;28;43;01mTrue\u001b[39;49;00m\u001b[43m)\u001b[49m\n",
      "File \u001b[1;32m~\\Desktop\\POMPSBO\\notebooks\\../../POMPSBO\\pomps\\contextual_graphs.py:83\u001b[0m, in \u001b[0;36mContextualCausalGraph.topological_order\u001b[1;34m(self, prioritize, include_uc)\u001b[0m\n\u001b[0;32m     80\u001b[0m     \u001b[38;5;28;01mreturn\u001b[39;00m \u001b[38;5;28mlist\u001b[39m(\u001b[38;5;28mset\u001b[39m(el) \u001b[38;5;241m&\u001b[39m prioritize) \u001b[38;5;241m+\u001b[39m \u001b[38;5;28mlist\u001b[39m(\u001b[38;5;28mset\u001b[39m(el) \u001b[38;5;241m-\u001b[39m prioritize)\n\u001b[0;32m     82\u001b[0m \u001b[38;5;28;01mif\u001b[39;00m include_uc:\n\u001b[1;32m---> 83\u001b[0m     \u001b[38;5;28;01mraise\u001b[39;00m \u001b[38;5;167;01mNotImplementedError\u001b[39;00m\n\u001b[0;32m     84\u001b[0m \u001b[38;5;28;01mif\u001b[39;00m prioritize \u001b[38;5;129;01mis\u001b[39;00m \u001b[38;5;28;01mNone\u001b[39;00m:\n\u001b[0;32m     85\u001b[0m     \u001b[38;5;28;01mreturn\u001b[39;00m [n \u001b[38;5;28;01mfor\u001b[39;00m n \u001b[38;5;129;01min\u001b[39;00m nx\u001b[38;5;241m.\u001b[39mtopological_sort(\u001b[38;5;28mself\u001b[39m) \u001b[38;5;28;01mif\u001b[39;00m n \u001b[38;5;129;01mnot\u001b[39;00m \u001b[38;5;129;01min\u001b[39;00m \u001b[38;5;28mself\u001b[39m\u001b[38;5;241m.\u001b[39muc_variables]\n",
      "\u001b[1;31mNotImplementedError\u001b[0m: "
     ]
    }
   ],
   "source": [
    "scm.induced_graph().topological_order(include_uc=True)"
   ]
  },
  {
   "cell_type": "code",
   "execution_count": 43,
   "id": "2e666d68-338c-4549-95bb-9fc8da9b3e06",
   "metadata": {},
   "outputs": [
    {
     "ename": "AssertionError",
     "evalue": "",
     "output_type": "error",
     "traceback": [
      "\u001b[1;31m---------------------------------------------------------------------------\u001b[0m",
      "\u001b[1;31mAssertionError\u001b[0m                            Traceback (most recent call last)",
      "Input \u001b[1;32mIn [43]\u001b[0m, in \u001b[0;36m<cell line: 1>\u001b[1;34m()\u001b[0m\n\u001b[1;32m----> 1\u001b[0m cabo \u001b[38;5;241m=\u001b[39m \u001b[43mCaBOExperiment\u001b[49m\u001b[43m(\u001b[49m\u001b[43mscm\u001b[49m\u001b[43m,\u001b[49m\u001b[43m \u001b[49m\u001b[43mnon_int\u001b[49m\u001b[43m,\u001b[49m\n\u001b[0;32m      2\u001b[0m \u001b[43m                         \u001b[49m\u001b[43mdomain\u001b[49m\u001b[43m,\u001b[49m\u001b[43m  \u001b[49m\u001b[43mdebug\u001b[49m\u001b[38;5;241;43m=\u001b[39;49m\u001b[38;5;28;43;01mTrue\u001b[39;49;00m\u001b[43m,\u001b[49m\u001b[43m \u001b[49m\u001b[43mtarget\u001b[49m\u001b[38;5;241;43m=\u001b[39;49m\u001b[38;5;124;43m\"\u001b[39;49m\u001b[38;5;124;43mrevenue\u001b[39;49m\u001b[38;5;124;43m\"\u001b[39;49m\u001b[43m,\u001b[49m\u001b[43m \u001b[49m\u001b[43mn_iter\u001b[49m\u001b[38;5;241;43m=\u001b[39;49m\u001b[38;5;241;43m16\u001b[39;49m\u001b[43m \u001b[49m\u001b[38;5;28;43;01mif\u001b[39;49;00m\u001b[43m \u001b[49m\u001b[43msmoke_test\u001b[49m\u001b[43m \u001b[49m\u001b[38;5;28;43;01melse\u001b[39;49;00m\u001b[43m \u001b[49m\u001b[43mn_iter\u001b[49m\u001b[43m,\u001b[49m\n\u001b[0;32m      3\u001b[0m \u001b[43m                         \u001b[49m\u001b[43mexperiment_name\u001b[49m\u001b[38;5;241;43m=\u001b[39;49m\u001b[38;5;124;43m'\u001b[39;49m\u001b[38;5;124;43mtest_ad\u001b[39;49m\u001b[38;5;124;43m'\u001b[39;49m\u001b[43m,\u001b[49m\u001b[43m \u001b[49m\u001b[43mobjetive\u001b[49m\u001b[38;5;241;43m=\u001b[39;49m\u001b[43mOptimizationObjective\u001b[49m\u001b[38;5;241;43m.\u001b[39;49m\u001b[43mmaximize\u001b[49m\u001b[43m)\u001b[49m\n",
      "File \u001b[1;32m~\\Desktop\\POMPSBO\\notebooks\\../../POMPSBO\\experiments\\causal_bo_experiment.py:18\u001b[0m, in \u001b[0;36mCaBOExperiment.__init__\u001b[1;34m(self, fcm, non_interventional_variables, optimization_domain, target, n_iter, epsilon, objetive, debug, auto_log_each_n_iter, experiment_name)\u001b[0m\n\u001b[0;32m     12\u001b[0m \u001b[38;5;28;01mdef\u001b[39;00m \u001b[38;5;21m__init__\u001b[39m(\u001b[38;5;28mself\u001b[39m, fcm: FunctionalCausalModel, non_interventional_variables: tp\u001b[38;5;241m.\u001b[39mSet[\u001b[38;5;28mstr\u001b[39m],\n\u001b[0;32m     13\u001b[0m              optimization_domain: tp\u001b[38;5;241m.\u001b[39mList[Domain], target: \u001b[38;5;28mstr\u001b[39m \u001b[38;5;241m=\u001b[39m \u001b[38;5;124m\"\u001b[39m\u001b[38;5;124mY\u001b[39m\u001b[38;5;124m\"\u001b[39m,\n\u001b[0;32m     14\u001b[0m              n_iter\u001b[38;5;241m=\u001b[39m\u001b[38;5;241m1500\u001b[39m, epsilon\u001b[38;5;241m=\u001b[39m\u001b[38;5;241m-\u001b[39m\u001b[38;5;241m1\u001b[39m, objetive\u001b[38;5;241m=\u001b[39mOptimizationObjective\u001b[38;5;241m.\u001b[39mmaximize, debug\u001b[38;5;241m=\u001b[39m\u001b[38;5;28;01mFalse\u001b[39;00m,\n\u001b[0;32m     15\u001b[0m              auto_log_each_n_iter\u001b[38;5;241m=\u001b[39m\u001b[38;5;241m50\u001b[39m, experiment_name\u001b[38;5;241m=\u001b[39m\u001b[38;5;28;01mNone\u001b[39;00m):\n\u001b[0;32m     16\u001b[0m     \u001b[38;5;28msuper\u001b[39m()\u001b[38;5;241m.\u001b[39m\u001b[38;5;21m__init__\u001b[39m(fcm, n_iter, epsilon, objetive, debug, auto_log_each_n_iter, experiment_name)\n\u001b[1;32m---> 18\u001b[0m     \u001b[38;5;28;43mself\u001b[39;49m\u001b[38;5;241;43m.\u001b[39;49m\u001b[43m__construct_graphs_under_policy\u001b[49m\u001b[43m(\u001b[49m\u001b[43moptimization_domain\u001b[49m\u001b[43m,\u001b[49m\u001b[43m \u001b[49m\u001b[43mnon_interventional_variables\u001b[49m\u001b[43m,\u001b[49m\u001b[43m \u001b[49m\u001b[43mtarget\u001b[49m\u001b[43m)\u001b[49m\n\u001b[0;32m     19\u001b[0m     \u001b[38;5;28mself\u001b[39m\u001b[38;5;241m.\u001b[39m_construct_policies()\n\u001b[0;32m     21\u001b[0m     \u001b[38;5;28mself\u001b[39m\u001b[38;5;241m.\u001b[39m_active_interventional \u001b[38;5;241m=\u001b[39m union([v\u001b[38;5;241m.\u001b[39minterventional_variables \u001b[38;5;28;01mfor\u001b[39;00m _, _, v \u001b[38;5;129;01min\u001b[39;00m (\u001b[38;5;28mself\u001b[39m\u001b[38;5;241m.\u001b[39mpolicies_active\u001b[38;5;241m.\u001b[39mvalues())])\n",
      "File \u001b[1;32m~\\Desktop\\POMPSBO\\notebooks\\../../POMPSBO\\experiments\\causal_bo_experiment.py:28\u001b[0m, in \u001b[0;36mCaBOExperiment.__construct_graphs_under_policy\u001b[1;34m(self, optimization_domain, non_interventional_variables, target)\u001b[0m\n\u001b[0;32m     26\u001b[0m nmg \u001b[38;5;241m=\u001b[39m NonManGraph(non_interventional_variables)\n\u001b[0;32m     27\u001b[0m nmg\u001b[38;5;241m.\u001b[39madd_edges_from(induced\u001b[38;5;241m.\u001b[39medges)\n\u001b[1;32m---> 28\u001b[0m pomis_s \u001b[38;5;241m=\u001b[39m \u001b[43mPOMISs\u001b[49m\u001b[43m(\u001b[49m\u001b[43mCausalGraph\u001b[49m\u001b[43m(\u001b[49m\u001b[43mnmg\u001b[49m\u001b[38;5;241;43m.\u001b[39;49m\u001b[43mprojection\u001b[49m\u001b[43m)\u001b[49m\u001b[43m,\u001b[49m\u001b[43m \u001b[49m\u001b[43mtarget\u001b[49m\u001b[43m)\u001b[49m\n\u001b[0;32m     30\u001b[0m interventional_variables \u001b[38;5;241m=\u001b[39m \u001b[38;5;28mset\u001b[39m(induced\u001b[38;5;241m.\u001b[39mnodes) \u001b[38;5;241m-\u001b[39m non_interventional_variables \u001b[38;5;241m-\u001b[39m \u001b[38;5;28mset\u001b[39m(target)\n\u001b[0;32m     32\u001b[0m \u001b[38;5;28mself\u001b[39m\u001b[38;5;241m.\u001b[39m__contains_empty \u001b[38;5;241m=\u001b[39m \u001b[38;5;28mset\u001b[39m() \u001b[38;5;129;01min\u001b[39;00m pomis_s\n",
      "File \u001b[1;32mD:\\Conda\\envs\\POMPSBO\\lib\\site-packages\\npsem-0.1.0-py3.8.egg\\npsem\\where_do.py:68\u001b[0m, in \u001b[0;36mPOMISs\u001b[1;34m(G, Y)\u001b[0m\n\u001b[0;32m     66\u001b[0m \u001b[38;5;28;01mdef\u001b[39;00m \u001b[38;5;21mPOMISs\u001b[39m(G: CausalDiagram, Y: \u001b[38;5;28mstr\u001b[39m) \u001b[38;5;241m-\u001b[39m\u001b[38;5;241m>\u001b[39m Set[FrozenSet[\u001b[38;5;28mstr\u001b[39m]]:\n\u001b[0;32m     67\u001b[0m     \u001b[38;5;124;03m\"\"\" all POMISs for G with respect to Y \"\"\"\u001b[39;00m\n\u001b[1;32m---> 68\u001b[0m     G \u001b[38;5;241m=\u001b[39m \u001b[43mG\u001b[49m\u001b[43m[\u001b[49m\u001b[43mG\u001b[49m\u001b[38;5;241;43m.\u001b[39;49m\u001b[43mAn\u001b[49m\u001b[43m(\u001b[49m\u001b[43mY\u001b[49m\u001b[43m)\u001b[49m\u001b[43m]\u001b[49m\n\u001b[0;32m     70\u001b[0m     Ts, Xs \u001b[38;5;241m=\u001b[39m MUCT_IB(G, Y)\n\u001b[0;32m     71\u001b[0m     H \u001b[38;5;241m=\u001b[39m G\u001b[38;5;241m.\u001b[39mdo(Xs)[Ts \u001b[38;5;241m|\u001b[39m Xs]\n",
      "File \u001b[1;32mD:\\Conda\\envs\\POMPSBO\\lib\\site-packages\\npsem-0.1.0-py3.8.egg\\npsem\\model.py:246\u001b[0m, in \u001b[0;36mCausalDiagram.__getitem__\u001b[1;34m(self, item)\u001b[0m\n\u001b[0;32m    245\u001b[0m \u001b[38;5;28;01mdef\u001b[39;00m \u001b[38;5;21m__getitem__\u001b[39m(\u001b[38;5;28mself\u001b[39m, item) \u001b[38;5;241m-\u001b[39m\u001b[38;5;241m>\u001b[39m \u001b[38;5;124m'\u001b[39m\u001b[38;5;124mCausalDiagram\u001b[39m\u001b[38;5;124m'\u001b[39m:\n\u001b[1;32m--> 246\u001b[0m     \u001b[38;5;28;01mreturn\u001b[39;00m \u001b[38;5;28;43mself\u001b[39;49m\u001b[38;5;241;43m.\u001b[39;49m\u001b[43minduced\u001b[49m\u001b[43m(\u001b[49m\u001b[43mitem\u001b[49m\u001b[43m)\u001b[49m\n",
      "File \u001b[1;32mD:\\Conda\\envs\\POMPSBO\\lib\\site-packages\\npsem-0.1.0-py3.8.egg\\npsem\\model.py:251\u001b[0m, in \u001b[0;36mCausalDiagram.induced\u001b[1;34m(self, v_or_vs)\u001b[0m\n\u001b[0;32m    249\u001b[0m \u001b[38;5;28;01mif\u001b[39;00m \u001b[38;5;28mset\u001b[39m(v_or_vs) \u001b[38;5;241m==\u001b[39m \u001b[38;5;28mself\u001b[39m\u001b[38;5;241m.\u001b[39mV:\n\u001b[0;32m    250\u001b[0m     \u001b[38;5;28;01mreturn\u001b[39;00m \u001b[38;5;28mself\u001b[39m\n\u001b[1;32m--> 251\u001b[0m \u001b[38;5;28;01mreturn\u001b[39;00m \u001b[43mCausalDiagram\u001b[49m\u001b[43m(\u001b[49m\u001b[38;5;28;43;01mNone\u001b[39;49;00m\u001b[43m,\u001b[49m\u001b[43m \u001b[49m\u001b[38;5;28;43;01mNone\u001b[39;49;00m\u001b[43m,\u001b[49m\u001b[43m \u001b[49m\u001b[38;5;28;43;01mNone\u001b[39;49;00m\u001b[43m,\u001b[49m\u001b[43m \u001b[49m\u001b[43mcopy\u001b[49m\u001b[38;5;241;43m=\u001b[39;49m\u001b[38;5;28;43mself\u001b[39;49m\u001b[43m,\u001b[49m\u001b[43m \u001b[49m\u001b[43mwith_induced\u001b[49m\u001b[38;5;241;43m=\u001b[39;49m\u001b[43mv_or_vs\u001b[49m\u001b[43m)\u001b[49m\n",
      "File \u001b[1;32mD:\\Conda\\envs\\POMPSBO\\lib\\site-packages\\npsem-0.1.0-py3.8.egg\\npsem\\model.py:82\u001b[0m, in \u001b[0;36mCausalDiagram.__init__\u001b[1;34m(self, vs, directed_edges, bidirected_edges, copy, with_do, with_induced)\u001b[0m\n\u001b[0;32m     79\u001b[0m     \u001b[38;5;28mself\u001b[39m\u001b[38;5;241m.\u001b[39m_de \u001b[38;5;241m=\u001b[39m dict_except(copy\u001b[38;5;241m.\u001b[39m_de, doAn)\n\u001b[0;32m     81\u001b[0m \u001b[38;5;28;01melif\u001b[39;00m with_induced \u001b[38;5;129;01mis\u001b[39;00m \u001b[38;5;129;01mnot\u001b[39;00m \u001b[38;5;28;01mNone\u001b[39;00m:\n\u001b[1;32m---> 82\u001b[0m     \u001b[38;5;28;01massert\u001b[39;00m with_induced \u001b[38;5;241m<\u001b[39m\u001b[38;5;241m=\u001b[39m copy\u001b[38;5;241m.\u001b[39mV\n\u001b[0;32m     83\u001b[0m     removed \u001b[38;5;241m=\u001b[39m copy\u001b[38;5;241m.\u001b[39mV \u001b[38;5;241m-\u001b[39m with_induced\n\u001b[0;32m     84\u001b[0m     \u001b[38;5;28mself\u001b[39m\u001b[38;5;241m.\u001b[39mV \u001b[38;5;241m=\u001b[39m with_induced\n",
      "\u001b[1;31mAssertionError\u001b[0m: "
     ]
    }
   ],
   "source": [
    "cabo = CaBOExperiment(scm, non_int,\n",
    "                         domain,  debug=True, target=\"revenue\", n_iter=16 if smoke_test else n_iter,\n",
    "                         experiment_name='test_ad', objetive=OptimizationObjective.maximize)"
   ]
  },
  {
   "cell_type": "code",
   "execution_count": null,
   "id": "0b861e0d-56d9-4672-86c6-68862ce5f49d",
   "metadata": {},
   "outputs": [],
   "source": []
  }
 ],
 "metadata": {
  "kernelspec": {
   "display_name": "Python 3 (ipykernel)",
   "language": "python",
   "name": "python3"
  },
  "language_info": {
   "codemirror_mode": {
    "name": "ipython",
    "version": 3
   },
   "file_extension": ".py",
   "mimetype": "text/x-python",
   "name": "python",
   "nbconvert_exporter": "python",
   "pygments_lexer": "ipython3",
   "version": "3.8.13"
  }
 },
 "nbformat": 4,
 "nbformat_minor": 5
}
